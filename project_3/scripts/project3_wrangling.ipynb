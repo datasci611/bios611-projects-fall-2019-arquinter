{
 "cells": [
  {
   "cell_type": "code",
   "execution_count": 1,
   "metadata": {},
   "outputs": [],
   "source": [
    "import pandas as pd\n",
    "import datetime as dt"
   ]
  },
  {
   "cell_type": "code",
   "execution_count": 2,
   "metadata": {},
   "outputs": [],
   "source": [
    "demo = pd.read_csv(\"https://raw.githubusercontent.com/datasci611/bios611-projects-fall-2019-arquinter/master/project_3/data/CLIENT_191102.tsv\", sep=\"\\t\")"
   ]
  },
  {
   "cell_type": "code",
   "execution_count": 3,
   "metadata": {},
   "outputs": [],
   "source": [
    "for column in demo[[\"Client Primary Race\", \"Client Ethnicity\", \"Client Veteran Status\"]]:\n",
    "    demo[column] = demo[column].astype(str).str.rstrip(\" (HUD)\")"
   ]
  },
  {
   "cell_type": "code",
   "execution_count": 4,
   "metadata": {},
   "outputs": [],
   "source": [
    "dis_entry = pd.read_csv(\"https://raw.githubusercontent.com/datasci611/bios611-projects-fall-2019-arquinter/master/project_3/data/DISABILITY_ENTRY_191102.tsv\", sep = \"\\t\")[[\"Client ID\", \"Disability Determination (Entry)\", \"Disability Type (Entry)\"]]"
   ]
  },
  {
   "cell_type": "code",
   "execution_count": 5,
   "metadata": {},
   "outputs": [],
   "source": [
    "dis_entry2 = dis_entry[dis_entry[\"Disability Determination (Entry)\"] == \"Yes (HUD)\"].drop_duplicates()"
   ]
  },
  {
   "cell_type": "code",
   "execution_count": 6,
   "metadata": {},
   "outputs": [],
   "source": [
    "for column in dis_entry2[[\"Disability Determination (Entry)\", \"Disability Type (Entry)\"]]:\n",
    "    dis_entry2[column] = dis_entry2[column].map(lambda x: x.rstrip(\" (HUD)\"))"
   ]
  },
  {
   "cell_type": "code",
   "execution_count": 7,
   "metadata": {},
   "outputs": [],
   "source": [
    "dis_entry3 = pd.pivot(dis_entry2, index = \"Client ID\", columns = \"Disability Type (Entry)\", values = \"Disability Determination (Entry)\").fillna(\"No\")"
   ]
  },
  {
   "cell_type": "code",
   "execution_count": 8,
   "metadata": {},
   "outputs": [],
   "source": [
    "dis_entry3.columns = [str(x) + '_Entry' if (\"ID\" not in x or \"AIDS\" in x) else x for x in dis_entry3.columns]"
   ]
  },
  {
   "cell_type": "code",
   "execution_count": 9,
   "metadata": {},
   "outputs": [],
   "source": [
    "dis_entry_fin = demo.merge(dis_entry3, on = \"Client ID\", how = \"left\")"
   ]
  },
  {
   "cell_type": "code",
   "execution_count": 10,
   "metadata": {},
   "outputs": [],
   "source": [
    "dis_entry_fin[[\"Alcohol Abuse_Entry\", \"Both Alcohol and Drug Abuse_Entry\", \"Chronic Health Condition_Entry\", \"Developmental_Entry\",\n",
    "             \"Drug Abuse_Entry\", \"HIV/AIDS_Entry\", \"Mental Health Problem_Entry\", \"Other_Entry\", \"Other: Learning_Entry\", \"Physical_Entry\",\n",
    "             \"Physical/Medical_Entry\", \"Vision Impaired_Entry\"]] = dis_entry_fin[[\"Alcohol Abuse_Entry\", \"Both Alcohol and Drug Abuse_Entry\",\n",
    "             \"Chronic Health Condition_Entry\", \"Developmental_Entry\", \"Drug Abuse_Entry\", \"HIV/AIDS_Entry\", \"Mental Health Problem_Entry\", \"Other_Entry\",\n",
    "             \"Other: Learning_Entry\", \"Physical_Entry\", \"Physical/Medical_Entry\", \"Vision Impaired_Entry\"]].fillna(\"No\")"
   ]
  },
  {
   "cell_type": "code",
   "execution_count": 11,
   "metadata": {},
   "outputs": [],
   "source": [
    "for column in dis_entry_fin[[\"Alcohol Abuse_Entry\", \"Both Alcohol and Drug Abuse_Entry\", \"Chronic Health Condition_Entry\", \"Developmental_Entry\",\n",
    "             \"Drug Abuse_Entry\", \"HIV/AIDS_Entry\", \"Mental Health Problem_Entry\", \"Other_Entry\", \"Other: Learning_Entry\", \"Physical_Entry\",\n",
    "             \"Physical/Medical_Entry\", \"Vision Impaired_Entry\"]]:\n",
    "    dis_entry_fin.loc[(dis_entry_fin[column] == \"Yes\"), 'Disability_Entry'] = \"Yes\"\n",
    "dis_entry_fin['Disability_Entry'] = dis_entry_fin['Disability_Entry'].fillna(\"No\")"
   ]
  },
  {
   "cell_type": "code",
   "execution_count": 12,
   "metadata": {},
   "outputs": [],
   "source": [
    "dis_exit = pd.read_csv(\"https://raw.githubusercontent.com/datasci611/bios611-projects-fall-2019-arquinter/master/project_3/data/DISABILITY_EXIT_191102.tsv\", sep = \"\\t\")[[\"Client ID\", \"Disability Determination (Exit)\", \"Disability Type (Exit)\"]]"
   ]
  },
  {
   "cell_type": "code",
   "execution_count": 13,
   "metadata": {},
   "outputs": [],
   "source": [
    "dis_exit2 = dis_exit[dis_exit[\"Disability Determination (Exit)\"] == \"Yes (HUD)\"].drop_duplicates()"
   ]
  },
  {
   "cell_type": "code",
   "execution_count": 14,
   "metadata": {},
   "outputs": [],
   "source": [
    "for column in dis_exit2[[\"Disability Determination (Exit)\", \"Disability Type (Exit)\"]]:\n",
    "    dis_exit2[column] = dis_exit2[column].map(lambda x: x.rstrip(\" (HUD)\"))"
   ]
  },
  {
   "cell_type": "code",
   "execution_count": 15,
   "metadata": {},
   "outputs": [],
   "source": [
    "dis_exit3 = pd.pivot(dis_exit2, index = \"Client ID\", columns = \"Disability Type (Exit)\", values = \"Disability Determination (Exit)\").fillna(\"No\")"
   ]
  },
  {
   "cell_type": "code",
   "execution_count": 16,
   "metadata": {},
   "outputs": [],
   "source": [
    "dis_exit3.columns = [str(x) + '_Exit' if (\"ID\" not in x or \"AIDS\" in x) else x for x in dis_exit3.columns]"
   ]
  },
  {
   "cell_type": "code",
   "execution_count": 17,
   "metadata": {},
   "outputs": [],
   "source": [
    "dis_exit_fin = demo.merge(dis_exit3, on = \"Client ID\", how = \"left\")"
   ]
  },
  {
   "cell_type": "code",
   "execution_count": 18,
   "metadata": {},
   "outputs": [],
   "source": [
    "dis_exit_fin[[\"Alcohol Abuse_Exit\", \"Both Alcohol and Drug Abuse_Exit\", \"Chronic Health Condition_Exit\", \"Developmental_Exit\",\n",
    "             \"Drug Abuse_Exit\", \"HIV/AIDS_Exit\", \"Mental Health Problem_Exit\", \"Other_Exit\", \"Other: Learning_Exit\", \"Physical_Exit\",\n",
    "             \"Physical/Medical_Exit\", \"Vision Impaired_Exit\"]] = dis_exit_fin[[\"Alcohol Abuse_Exit\", \"Both Alcohol and Drug Abuse_Exit\",\n",
    "             \"Chronic Health Condition_Exit\", \"Developmental_Exit\", \"Drug Abuse_Exit\", \"HIV/AIDS_Exit\", \"Mental Health Problem_Exit\", \"Other_Exit\",\n",
    "             \"Other: Learning_Exit\", \"Physical_Exit\", \"Physical/Medical_Exit\", \"Vision Impaired_Exit\"]].fillna(\"No\")"
   ]
  },
  {
   "cell_type": "code",
   "execution_count": 19,
   "metadata": {},
   "outputs": [],
   "source": [
    "dis_exit_fin.drop(dis_exit_fin.columns[[4, 5, 6, 7, 8, 9]], axis = 1, inplace = True)"
   ]
  },
  {
   "cell_type": "code",
   "execution_count": 20,
   "metadata": {},
   "outputs": [],
   "source": [
    "for column in dis_exit_fin[[\"Alcohol Abuse_Exit\", \"Both Alcohol and Drug Abuse_Exit\", \"Chronic Health Condition_Exit\", \"Developmental_Exit\",\n",
    "             \"Drug Abuse_Exit\", \"HIV/AIDS_Exit\", \"Mental Health Problem_Exit\", \"Other_Exit\", \"Other: Learning_Exit\", \"Physical_Exit\",\n",
    "             \"Physical/Medical_Exit\", \"Vision Impaired_Exit\"]]:\n",
    "    dis_exit_fin.loc[(dis_exit_fin[column] == \"Yes\"), 'Disability_Exit'] = \"Yes\"\n",
    "dis_exit_fin['Disability_Exit'] = dis_exit_fin['Disability_Exit'].fillna(\"No\")"
   ]
  },
  {
   "cell_type": "code",
   "execution_count": 21,
   "metadata": {},
   "outputs": [],
   "source": [
    "disability_data = dis_entry_fin.merge(dis_exit_fin, on = [\"Client ID\", \"EE Provider ID\", \"EE UID\", \"Client Unique ID\"], how = \"inner\")"
   ]
  },
  {
   "cell_type": "code",
   "execution_count": 22,
   "metadata": {},
   "outputs": [],
   "source": [
    "disability_data[\"Client Gender\"] = disability_data[\"Client Gender\"].fillna(\"Missing\")\n",
    "disability_data[\"Client Primary Race\"] = disability_data[\"Client Primary Race\"].replace({\"nan\": \"Missing\"})"
   ]
  },
  {
   "cell_type": "code",
   "execution_count": 23,
   "metadata": {},
   "outputs": [],
   "source": [
    "disability_data.to_csv(\"./disability_data.csv\")"
   ]
  },
  {
   "cell_type": "code",
   "execution_count": 24,
   "metadata": {},
   "outputs": [],
   "source": [
    "ee_dates = pd.read_csv(\"https://raw.githubusercontent.com/datasci611/bios611-projects-fall-2019-arquinter/master/project_3/data/ENTRY_EXIT_191102.tsv\", sep=\"\\t\")"
   ]
  },
  {
   "cell_type": "code",
   "execution_count": 25,
   "metadata": {},
   "outputs": [],
   "source": [
    "ee_dates = ee_dates.dropna(subset=[\"Exit Date\"])"
   ]
  },
  {
   "cell_type": "code",
   "execution_count": 26,
   "metadata": {},
   "outputs": [],
   "source": [
    "ee_dates[\"entry_num\"] = ee_dates[\"Entry Date\"].map(lambda x: dt.datetime.strptime(x, \"%m/%d/%Y\"))"
   ]
  },
  {
   "cell_type": "code",
   "execution_count": 27,
   "metadata": {},
   "outputs": [],
   "source": [
    "ee_dates[\"exit_num\"] = ee_dates[\"Exit Date\"].map(lambda x: dt.datetime.strptime(x, \"%m/%d/%Y\"))"
   ]
  },
  {
   "cell_type": "code",
   "execution_count": 28,
   "metadata": {},
   "outputs": [],
   "source": [
    "ee_dates[\"dur\"] = ee_dates[\"exit_num\"] - ee_dates[\"entry_num\"]"
   ]
  },
  {
   "cell_type": "code",
   "execution_count": 29,
   "metadata": {},
   "outputs": [],
   "source": [
    "duration_data = ee_dates.merge(demo, on = ['Client ID', 'EE Provider ID', 'EE UID', 'Client Unique ID'], how = 'left')"
   ]
  },
  {
   "cell_type": "code",
   "execution_count": 30,
   "metadata": {
    "scrolled": true
   },
   "outputs": [],
   "source": [
    "duration_data = duration_data.drop(\"Unnamed: 6\", axis = 1)"
   ]
  },
  {
   "cell_type": "code",
   "execution_count": 31,
   "metadata": {},
   "outputs": [],
   "source": [
    "duration_data[\"dur\"] = duration_data[\"dur\"].dt.days"
   ]
  },
  {
   "cell_type": "code",
   "execution_count": 32,
   "metadata": {},
   "outputs": [],
   "source": [
    "duration_data.to_csv(\"./duration_data.csv\")"
   ]
  }
 ],
 "metadata": {
  "kernelspec": {
   "display_name": "Python 3",
   "language": "python",
   "name": "python3"
  },
  "language_info": {
   "codemirror_mode": {
    "name": "ipython",
    "version": 3
   },
   "file_extension": ".py",
   "mimetype": "text/x-python",
   "name": "python",
   "nbconvert_exporter": "python",
   "pygments_lexer": "ipython3",
   "version": "3.7.4"
  }
 },
 "nbformat": 4,
 "nbformat_minor": 2
}
